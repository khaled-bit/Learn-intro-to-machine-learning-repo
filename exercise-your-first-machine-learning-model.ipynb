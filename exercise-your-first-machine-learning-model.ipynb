{
 "cells": [
  {
   "cell_type": "markdown",
   "id": "4a33d9aa",
   "metadata": {
    "papermill": {
     "duration": 0.005042,
     "end_time": "2022-07-22T15:52:04.664537",
     "exception": false,
     "start_time": "2022-07-22T15:52:04.659495",
     "status": "completed"
    },
    "tags": []
   },
   "source": [
    "**This notebook is an exercise in the [Introduction to Machine Learning](https://www.kaggle.com/learn/intro-to-machine-learning) course.  You can reference the tutorial at [this link](https://www.kaggle.com/dansbecker/your-first-machine-learning-model).**\n",
    "\n",
    "---\n"
   ]
  },
  {
   "cell_type": "markdown",
   "id": "8490f8e4",
   "metadata": {
    "papermill": {
     "duration": 0.003646,
     "end_time": "2022-07-22T15:52:04.672313",
     "exception": false,
     "start_time": "2022-07-22T15:52:04.668667",
     "status": "completed"
    },
    "tags": []
   },
   "source": [
    "## Recap\n",
    "So far, you have loaded your data and reviewed it with the following code. Run this cell to set up your coding environment where the previous step left off."
   ]
  },
  {
   "cell_type": "code",
   "execution_count": 1,
   "id": "8f912ade",
   "metadata": {
    "execution": {
     "iopub.execute_input": "2022-07-22T15:52:04.682054Z",
     "iopub.status.busy": "2022-07-22T15:52:04.681646Z",
     "iopub.status.idle": "2022-07-22T15:52:05.869178Z",
     "shell.execute_reply": "2022-07-22T15:52:05.868069Z"
    },
    "papermill": {
     "duration": 1.195156,
     "end_time": "2022-07-22T15:52:05.871396",
     "exception": false,
     "start_time": "2022-07-22T15:52:04.676240",
     "status": "completed"
    },
    "tags": []
   },
   "outputs": [
    {
     "name": "stdout",
     "output_type": "stream",
     "text": [
      "Setup Complete\n"
     ]
    }
   ],
   "source": [
    "# Code you have previously used to load data\n",
    "import pandas as pd\n",
    "\n",
    "# Path of the file to read\n",
    "iowa_file_path = '../input/home-data-for-ml-course/train.csv'\n",
    "\n",
    "home_data = pd.read_csv(iowa_file_path)\n",
    "\n",
    "# Set up code checking\n",
    "from learntools.core import binder\n",
    "binder.bind(globals())\n",
    "from learntools.machine_learning.ex3 import *\n",
    "\n",
    "print(\"Setup Complete\")"
   ]
  },
  {
   "cell_type": "markdown",
   "id": "ba458c7d",
   "metadata": {
    "papermill": {
     "duration": 0.004053,
     "end_time": "2022-07-22T15:52:05.879712",
     "exception": false,
     "start_time": "2022-07-22T15:52:05.875659",
     "status": "completed"
    },
    "tags": []
   },
   "source": [
    "# Exercises\n",
    "\n",
    "## Step 1: Specify Prediction Target\n",
    "Select the target variable, which corresponds to the sales price. Save this to a new variable called `y`. You'll need to print a list of the columns to find the name of the column you need.\n"
   ]
  },
  {
   "cell_type": "code",
   "execution_count": 2,
   "id": "a93deb79",
   "metadata": {
    "execution": {
     "iopub.execute_input": "2022-07-22T15:52:05.889941Z",
     "iopub.status.busy": "2022-07-22T15:52:05.888991Z",
     "iopub.status.idle": "2022-07-22T15:52:05.898328Z",
     "shell.execute_reply": "2022-07-22T15:52:05.897238Z"
    },
    "papermill": {
     "duration": 0.016595,
     "end_time": "2022-07-22T15:52:05.900363",
     "exception": false,
     "start_time": "2022-07-22T15:52:05.883768",
     "status": "completed"
    },
    "tags": []
   },
   "outputs": [
    {
     "data": {
      "text/plain": [
       "Index(['Id', 'MSSubClass', 'MSZoning', 'LotFrontage', 'LotArea', 'Street',\n",
       "       'Alley', 'LotShape', 'LandContour', 'Utilities', 'LotConfig',\n",
       "       'LandSlope', 'Neighborhood', 'Condition1', 'Condition2', 'BldgType',\n",
       "       'HouseStyle', 'OverallQual', 'OverallCond', 'YearBuilt', 'YearRemodAdd',\n",
       "       'RoofStyle', 'RoofMatl', 'Exterior1st', 'Exterior2nd', 'MasVnrType',\n",
       "       'MasVnrArea', 'ExterQual', 'ExterCond', 'Foundation', 'BsmtQual',\n",
       "       'BsmtCond', 'BsmtExposure', 'BsmtFinType1', 'BsmtFinSF1',\n",
       "       'BsmtFinType2', 'BsmtFinSF2', 'BsmtUnfSF', 'TotalBsmtSF', 'Heating',\n",
       "       'HeatingQC', 'CentralAir', 'Electrical', '1stFlrSF', '2ndFlrSF',\n",
       "       'LowQualFinSF', 'GrLivArea', 'BsmtFullBath', 'BsmtHalfBath', 'FullBath',\n",
       "       'HalfBath', 'BedroomAbvGr', 'KitchenAbvGr', 'KitchenQual',\n",
       "       'TotRmsAbvGrd', 'Functional', 'Fireplaces', 'FireplaceQu', 'GarageType',\n",
       "       'GarageYrBlt', 'GarageFinish', 'GarageCars', 'GarageArea', 'GarageQual',\n",
       "       'GarageCond', 'PavedDrive', 'WoodDeckSF', 'OpenPorchSF',\n",
       "       'EnclosedPorch', '3SsnPorch', 'ScreenPorch', 'PoolArea', 'PoolQC',\n",
       "       'Fence', 'MiscFeature', 'MiscVal', 'MoSold', 'YrSold', 'SaleType',\n",
       "       'SaleCondition', 'SalePrice'],\n",
       "      dtype='object')"
      ]
     },
     "execution_count": 2,
     "metadata": {},
     "output_type": "execute_result"
    }
   ],
   "source": [
    "# print the list of columns in the dataset to find the name of the prediction target\n",
    "home_data.columns"
   ]
  },
  {
   "cell_type": "code",
   "execution_count": 3,
   "id": "745a0ef5",
   "metadata": {
    "execution": {
     "iopub.execute_input": "2022-07-22T15:52:05.910501Z",
     "iopub.status.busy": "2022-07-22T15:52:05.910171Z",
     "iopub.status.idle": "2022-07-22T15:52:05.922460Z",
     "shell.execute_reply": "2022-07-22T15:52:05.921705Z"
    },
    "papermill": {
     "duration": 0.019301,
     "end_time": "2022-07-22T15:52:05.924233",
     "exception": false,
     "start_time": "2022-07-22T15:52:05.904932",
     "status": "completed"
    },
    "tags": []
   },
   "outputs": [
    {
     "data": {
      "application/javascript": [
       "parent.postMessage({\"jupyterEvent\": \"custom.exercise_interaction\", \"data\": {\"outcomeType\": 1, \"valueTowardsCompletion\": 0.25, \"interactionType\": 1, \"questionType\": 2, \"questionId\": \"1_SetTarget\", \"learnToolsVersion\": \"0.3.4\", \"failureMessage\": \"\", \"exceptionClass\": \"\", \"trace\": \"\"}}, \"*\")"
      ],
      "text/plain": [
       "<IPython.core.display.Javascript object>"
      ]
     },
     "metadata": {},
     "output_type": "display_data"
    },
    {
     "data": {
      "text/markdown": [
       "<span style=\"color:#33cc33\">Correct</span>"
      ],
      "text/plain": [
       "Correct"
      ]
     },
     "metadata": {},
     "output_type": "display_data"
    }
   ],
   "source": [
    "y = home_data.SalePrice\n",
    "\n",
    "# Check your answer\n",
    "step_1.check()"
   ]
  },
  {
   "cell_type": "code",
   "execution_count": 4,
   "id": "6d94b6b0",
   "metadata": {
    "collapsed": true,
    "execution": {
     "iopub.execute_input": "2022-07-22T15:52:05.934837Z",
     "iopub.status.busy": "2022-07-22T15:52:05.934086Z",
     "iopub.status.idle": "2022-07-22T15:52:05.937695Z",
     "shell.execute_reply": "2022-07-22T15:52:05.936946Z"
    },
    "jupyter": {
     "outputs_hidden": true
    },
    "papermill": {
     "duration": 0.010693,
     "end_time": "2022-07-22T15:52:05.939397",
     "exception": false,
     "start_time": "2022-07-22T15:52:05.928704",
     "status": "completed"
    },
    "tags": []
   },
   "outputs": [],
   "source": [
    "# The lines below will show you a hint or the solution.\n",
    "# step_1.hint() \n",
    "# step_1.solution()"
   ]
  },
  {
   "cell_type": "markdown",
   "id": "044e802a",
   "metadata": {
    "papermill": {
     "duration": 0.003984,
     "end_time": "2022-07-22T15:52:05.947645",
     "exception": false,
     "start_time": "2022-07-22T15:52:05.943661",
     "status": "completed"
    },
    "tags": []
   },
   "source": [
    "## Step 2: Create X\n",
    "Now you will create a DataFrame called `X` holding the predictive features.\n",
    "\n",
    "Since you want only some columns from the original data, you'll first create a list with the names of the columns you want in `X`.\n",
    "\n",
    "You'll use just the following columns in the list (you can copy and paste the whole list to save some typing, though you'll still need to add quotes):\n",
    "  * LotArea\n",
    "  * YearBuilt\n",
    "  * 1stFlrSF\n",
    "  * 2ndFlrSF\n",
    "  * FullBath\n",
    "  * BedroomAbvGr\n",
    "  * TotRmsAbvGrd\n",
    "\n",
    "After you've created that list of features, use it to create the DataFrame that you'll use to fit the model."
   ]
  },
  {
   "cell_type": "code",
   "execution_count": 5,
   "id": "41c10ea9",
   "metadata": {
    "execution": {
     "iopub.execute_input": "2022-07-22T15:52:05.957444Z",
     "iopub.status.busy": "2022-07-22T15:52:05.956903Z",
     "iopub.status.idle": "2022-07-22T15:52:05.969987Z",
     "shell.execute_reply": "2022-07-22T15:52:05.968949Z"
    },
    "papermill": {
     "duration": 0.02018,
     "end_time": "2022-07-22T15:52:05.971990",
     "exception": false,
     "start_time": "2022-07-22T15:52:05.951810",
     "status": "completed"
    },
    "tags": []
   },
   "outputs": [
    {
     "data": {
      "application/javascript": [
       "parent.postMessage({\"jupyterEvent\": \"custom.exercise_interaction\", \"data\": {\"outcomeType\": 1, \"valueTowardsCompletion\": 0.25, \"interactionType\": 1, \"questionType\": 2, \"questionId\": \"2_SelectPredictionData\", \"learnToolsVersion\": \"0.3.4\", \"failureMessage\": \"\", \"exceptionClass\": \"\", \"trace\": \"\"}}, \"*\")"
      ],
      "text/plain": [
       "<IPython.core.display.Javascript object>"
      ]
     },
     "metadata": {},
     "output_type": "display_data"
    },
    {
     "data": {
      "text/markdown": [
       "<span style=\"color:#33cc33\">Correct</span>"
      ],
      "text/plain": [
       "Correct"
      ]
     },
     "metadata": {},
     "output_type": "display_data"
    }
   ],
   "source": [
    "# Create the list of features below\n",
    "feature_names = ['LotArea','YearBuilt','1stFlrSF','2ndFlrSF','FullBath','BedroomAbvGr','TotRmsAbvGrd']\n",
    "\n",
    "# Select data corresponding to features in feature_names\n",
    "X =  home_data[feature_names]\n",
    "\n",
    "# Check your answer\n",
    "step_2.check()"
   ]
  },
  {
   "cell_type": "code",
   "execution_count": 6,
   "id": "3370acbd",
   "metadata": {
    "collapsed": true,
    "execution": {
     "iopub.execute_input": "2022-07-22T15:52:05.982699Z",
     "iopub.status.busy": "2022-07-22T15:52:05.982193Z",
     "iopub.status.idle": "2022-07-22T15:52:05.985274Z",
     "shell.execute_reply": "2022-07-22T15:52:05.984624Z"
    },
    "jupyter": {
     "outputs_hidden": true
    },
    "papermill": {
     "duration": 0.010561,
     "end_time": "2022-07-22T15:52:05.987113",
     "exception": false,
     "start_time": "2022-07-22T15:52:05.976552",
     "status": "completed"
    },
    "tags": []
   },
   "outputs": [],
   "source": [
    "# step_2.hint()\n",
    "# step_2.solution()"
   ]
  },
  {
   "cell_type": "markdown",
   "id": "c9d894c7",
   "metadata": {
    "papermill": {
     "duration": 0.004245,
     "end_time": "2022-07-22T15:52:05.995907",
     "exception": false,
     "start_time": "2022-07-22T15:52:05.991662",
     "status": "completed"
    },
    "tags": []
   },
   "source": [
    "## Review Data\n",
    "Before building a model, take a quick look at **X** to verify it looks sensible"
   ]
  },
  {
   "cell_type": "code",
   "execution_count": 7,
   "id": "c2f88b29",
   "metadata": {
    "execution": {
     "iopub.execute_input": "2022-07-22T15:52:06.006336Z",
     "iopub.status.busy": "2022-07-22T15:52:06.005858Z",
     "iopub.status.idle": "2022-07-22T15:52:06.033974Z",
     "shell.execute_reply": "2022-07-22T15:52:06.033246Z"
    },
    "papermill": {
     "duration": 0.035938,
     "end_time": "2022-07-22T15:52:06.036268",
     "exception": false,
     "start_time": "2022-07-22T15:52:06.000330",
     "status": "completed"
    },
    "tags": []
   },
   "outputs": [
    {
     "name": "stdout",
     "output_type": "stream",
     "text": [
      "             LotArea    YearBuilt     1stFlrSF     2ndFlrSF     FullBath  \\\n",
      "count    1460.000000  1460.000000  1460.000000  1460.000000  1460.000000   \n",
      "mean    10516.828082  1971.267808  1162.626712   346.992466     1.565068   \n",
      "std      9981.264932    30.202904   386.587738   436.528436     0.550916   \n",
      "min      1300.000000  1872.000000   334.000000     0.000000     0.000000   \n",
      "25%      7553.500000  1954.000000   882.000000     0.000000     1.000000   \n",
      "50%      9478.500000  1973.000000  1087.000000     0.000000     2.000000   \n",
      "75%     11601.500000  2000.000000  1391.250000   728.000000     2.000000   \n",
      "max    215245.000000  2010.000000  4692.000000  2065.000000     3.000000   \n",
      "\n",
      "       BedroomAbvGr  TotRmsAbvGrd  \n",
      "count   1460.000000   1460.000000  \n",
      "mean       2.866438      6.517808  \n",
      "std        0.815778      1.625393  \n",
      "min        0.000000      2.000000  \n",
      "25%        2.000000      5.000000  \n",
      "50%        3.000000      6.000000  \n",
      "75%        3.000000      7.000000  \n",
      "max        8.000000     14.000000  \n",
      "0    208500\n",
      "1    181500\n",
      "2    223500\n",
      "3    140000\n",
      "4    250000\n",
      "Name: SalePrice, dtype: int64\n"
     ]
    }
   ],
   "source": [
    "# Review data\n",
    "# print description or statistics from X\n",
    "#print(_)\n",
    "print(X.describe())\n",
    "\n",
    "# print the top few lines\n",
    "#print(_)\n",
    "print(y.head())"
   ]
  },
  {
   "cell_type": "markdown",
   "id": "93d186ab",
   "metadata": {
    "papermill": {
     "duration": 0.004557,
     "end_time": "2022-07-22T15:52:06.045826",
     "exception": false,
     "start_time": "2022-07-22T15:52:06.041269",
     "status": "completed"
    },
    "tags": []
   },
   "source": [
    "\n",
    "## Step 3: Specify and Fit Model\n",
    "Create a `DecisionTreeRegressor` and save it iowa_model. Ensure you've done the relevant import from sklearn to run this command.\n",
    "\n",
    "Then fit the model you just created using the data in `X` and `y` that you saved above."
   ]
  },
  {
   "cell_type": "code",
   "execution_count": 8,
   "id": "00d1e522",
   "metadata": {
    "execution": {
     "iopub.execute_input": "2022-07-22T15:52:06.057899Z",
     "iopub.status.busy": "2022-07-22T15:52:06.057272Z",
     "iopub.status.idle": "2022-07-22T15:52:06.075136Z",
     "shell.execute_reply": "2022-07-22T15:52:06.074379Z"
    },
    "papermill": {
     "duration": 0.02642,
     "end_time": "2022-07-22T15:52:06.077052",
     "exception": false,
     "start_time": "2022-07-22T15:52:06.050632",
     "status": "completed"
    },
    "tags": []
   },
   "outputs": [
    {
     "data": {
      "application/javascript": [
       "parent.postMessage({\"jupyterEvent\": \"custom.exercise_interaction\", \"data\": {\"outcomeType\": 1, \"valueTowardsCompletion\": 0.25, \"interactionType\": 1, \"questionType\": 2, \"questionId\": \"3_CreateModel\", \"learnToolsVersion\": \"0.3.4\", \"failureMessage\": \"\", \"exceptionClass\": \"\", \"trace\": \"\"}}, \"*\")"
      ],
      "text/plain": [
       "<IPython.core.display.Javascript object>"
      ]
     },
     "metadata": {},
     "output_type": "display_data"
    },
    {
     "data": {
      "text/markdown": [
       "<span style=\"color:#33cc33\">Correct</span>"
      ],
      "text/plain": [
       "Correct"
      ]
     },
     "metadata": {},
     "output_type": "display_data"
    }
   ],
   "source": [
    "# from _ import _\n",
    "from sklearn.tree import DecisionTreeRegressor\n",
    "#specify the model. \n",
    "#For model reproducibility, set a numeric value for random_state when specifying the model\n",
    "iowa_model = DecisionTreeRegressor(random_state=1)\n",
    "\n",
    "# Fit the model\n",
    "iowa_model.fit(X,y)\n",
    "\n",
    "# Check your answer\n",
    "step_3.check()"
   ]
  },
  {
   "cell_type": "code",
   "execution_count": 9,
   "id": "56a37e14",
   "metadata": {
    "collapsed": true,
    "execution": {
     "iopub.execute_input": "2022-07-22T15:52:06.089033Z",
     "iopub.status.busy": "2022-07-22T15:52:06.088438Z",
     "iopub.status.idle": "2022-07-22T15:52:06.092600Z",
     "shell.execute_reply": "2022-07-22T15:52:06.091845Z"
    },
    "jupyter": {
     "outputs_hidden": true
    },
    "papermill": {
     "duration": 0.012307,
     "end_time": "2022-07-22T15:52:06.094393",
     "exception": false,
     "start_time": "2022-07-22T15:52:06.082086",
     "status": "completed"
    },
    "tags": []
   },
   "outputs": [],
   "source": [
    "# step_3.hint()\n",
    "# step_3.solution()"
   ]
  },
  {
   "cell_type": "markdown",
   "id": "0c12fd71",
   "metadata": {
    "papermill": {
     "duration": 0.004583,
     "end_time": "2022-07-22T15:52:06.103862",
     "exception": false,
     "start_time": "2022-07-22T15:52:06.099279",
     "status": "completed"
    },
    "tags": []
   },
   "source": [
    "## Step 4: Make Predictions\n",
    "Make predictions with the model's `predict` command using `X` as the data. Save the results to a variable called `predictions`."
   ]
  },
  {
   "cell_type": "code",
   "execution_count": 10,
   "id": "c9136b8b",
   "metadata": {
    "execution": {
     "iopub.execute_input": "2022-07-22T15:52:06.115488Z",
     "iopub.status.busy": "2022-07-22T15:52:06.114929Z",
     "iopub.status.idle": "2022-07-22T15:52:06.127798Z",
     "shell.execute_reply": "2022-07-22T15:52:06.126477Z"
    },
    "papermill": {
     "duration": 0.021308,
     "end_time": "2022-07-22T15:52:06.130061",
     "exception": false,
     "start_time": "2022-07-22T15:52:06.108753",
     "status": "completed"
    },
    "tags": []
   },
   "outputs": [
    {
     "name": "stdout",
     "output_type": "stream",
     "text": [
      "[208500. 181500. 223500. ... 266500. 142125. 147500.]\n"
     ]
    },
    {
     "data": {
      "application/javascript": [
       "parent.postMessage({\"jupyterEvent\": \"custom.exercise_interaction\", \"data\": {\"outcomeType\": 1, \"valueTowardsCompletion\": 0.25, \"interactionType\": 1, \"questionType\": 2, \"questionId\": \"4_MakePredictions\", \"learnToolsVersion\": \"0.3.4\", \"failureMessage\": \"\", \"exceptionClass\": \"\", \"trace\": \"\"}}, \"*\")"
      ],
      "text/plain": [
       "<IPython.core.display.Javascript object>"
      ]
     },
     "metadata": {},
     "output_type": "display_data"
    },
    {
     "data": {
      "text/markdown": [
       "<span style=\"color:#33cc33\">Correct</span>"
      ],
      "text/plain": [
       "Correct"
      ]
     },
     "metadata": {},
     "output_type": "display_data"
    }
   ],
   "source": [
    "predictions = iowa_model.predict(X)\n",
    "print(predictions)\n",
    "\n",
    "# Check your answer\n",
    "step_4.check()"
   ]
  },
  {
   "cell_type": "code",
   "execution_count": 11,
   "id": "ae138994",
   "metadata": {
    "collapsed": true,
    "execution": {
     "iopub.execute_input": "2022-07-22T15:52:06.142361Z",
     "iopub.status.busy": "2022-07-22T15:52:06.141983Z",
     "iopub.status.idle": "2022-07-22T15:52:06.146231Z",
     "shell.execute_reply": "2022-07-22T15:52:06.145121Z"
    },
    "jupyter": {
     "outputs_hidden": true
    },
    "papermill": {
     "duration": 0.012986,
     "end_time": "2022-07-22T15:52:06.148307",
     "exception": false,
     "start_time": "2022-07-22T15:52:06.135321",
     "status": "completed"
    },
    "tags": []
   },
   "outputs": [],
   "source": [
    "# step_4.hint()\n",
    "# step_4.solution()"
   ]
  },
  {
   "cell_type": "markdown",
   "id": "53ac90ef",
   "metadata": {
    "papermill": {
     "duration": 0.00534,
     "end_time": "2022-07-22T15:52:06.158994",
     "exception": false,
     "start_time": "2022-07-22T15:52:06.153654",
     "status": "completed"
    },
    "tags": []
   },
   "source": [
    "## Think About Your Results\n",
    "\n",
    "Use the `head` method to compare the top few predictions to the actual home values (in `y`) for those same homes. Anything surprising?\n"
   ]
  },
  {
   "cell_type": "code",
   "execution_count": 12,
   "id": "a13c6401",
   "metadata": {
    "execution": {
     "iopub.execute_input": "2022-07-22T15:52:06.171385Z",
     "iopub.status.busy": "2022-07-22T15:52:06.171014Z",
     "iopub.status.idle": "2022-07-22T15:52:06.176751Z",
     "shell.execute_reply": "2022-07-22T15:52:06.175631Z"
    },
    "papermill": {
     "duration": 0.015682,
     "end_time": "2022-07-22T15:52:06.179962",
     "exception": false,
     "start_time": "2022-07-22T15:52:06.164280",
     "status": "completed"
    },
    "tags": []
   },
   "outputs": [
    {
     "name": "stdout",
     "output_type": "stream",
     "text": [
      "0    208500\n",
      "1    181500\n",
      "2    223500\n",
      "3    140000\n",
      "4    250000\n",
      "Name: SalePrice, dtype: int64\n",
      "[208500. 181500. 223500. 140000. 250000.]\n"
     ]
    }
   ],
   "source": [
    "# You can write code in this cell\n",
    "print(y.head())\n",
    "print(predictions[:5])"
   ]
  },
  {
   "cell_type": "markdown",
   "id": "094d9763",
   "metadata": {
    "papermill": {
     "duration": 0.00538,
     "end_time": "2022-07-22T15:52:06.191943",
     "exception": false,
     "start_time": "2022-07-22T15:52:06.186563",
     "status": "completed"
    },
    "tags": []
   },
   "source": [
    "It's natural to ask how accurate the model's predictions will be and how you can improve that. That will be you're next step.\n",
    "\n",
    "# Keep Going\n",
    "\n",
    "You are ready for **[Model Validation](https://www.kaggle.com/dansbecker/model-validation).**\n"
   ]
  },
  {
   "cell_type": "markdown",
   "id": "13d9a3f2",
   "metadata": {
    "papermill": {
     "duration": 0.005303,
     "end_time": "2022-07-22T15:52:06.202979",
     "exception": false,
     "start_time": "2022-07-22T15:52:06.197676",
     "status": "completed"
    },
    "tags": []
   },
   "source": [
    "---\n",
    "\n",
    "\n",
    "\n",
    "\n",
    "*Have questions or comments? Visit the [course discussion forum](https://www.kaggle.com/learn/intro-to-machine-learning/discussion) to chat with other learners.*"
   ]
  }
 ],
 "metadata": {
  "kernelspec": {
   "display_name": "Python 3",
   "language": "python",
   "name": "python3"
  },
  "language_info": {
   "codemirror_mode": {
    "name": "ipython",
    "version": 3
   },
   "file_extension": ".py",
   "mimetype": "text/x-python",
   "name": "python",
   "nbconvert_exporter": "python",
   "pygments_lexer": "ipython3",
   "version": "3.7.12"
  },
  "papermill": {
   "default_parameters": {},
   "duration": 10.446473,
   "end_time": "2022-07-22T15:52:06.828206",
   "environment_variables": {},
   "exception": null,
   "input_path": "__notebook__.ipynb",
   "output_path": "__notebook__.ipynb",
   "parameters": {},
   "start_time": "2022-07-22T15:51:56.381733",
   "version": "2.3.4"
  }
 },
 "nbformat": 4,
 "nbformat_minor": 5
}
