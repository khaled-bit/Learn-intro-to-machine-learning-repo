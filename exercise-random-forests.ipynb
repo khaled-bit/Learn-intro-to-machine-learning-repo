{
 "cells": [
  {
   "cell_type": "markdown",
   "id": "0a9a54d9",
   "metadata": {
    "papermill": {
     "duration": 0.003948,
     "end_time": "2022-07-22T18:58:11.070284",
     "exception": false,
     "start_time": "2022-07-22T18:58:11.066336",
     "status": "completed"
    },
    "tags": []
   },
   "source": [
    "**This notebook is an exercise in the [Introduction to Machine Learning](https://www.kaggle.com/learn/intro-to-machine-learning) course.  You can reference the tutorial at [this link](https://www.kaggle.com/dansbecker/random-forests).**\n",
    "\n",
    "---\n"
   ]
  },
  {
   "cell_type": "markdown",
   "id": "2ca495ec",
   "metadata": {
    "papermill": {
     "duration": 0.002817,
     "end_time": "2022-07-22T18:58:11.076325",
     "exception": false,
     "start_time": "2022-07-22T18:58:11.073508",
     "status": "completed"
    },
    "tags": []
   },
   "source": [
    "## Recap\n",
    "Here's the code you've written so far."
   ]
  },
  {
   "cell_type": "code",
   "execution_count": 1,
   "id": "a4913396",
   "metadata": {
    "execution": {
     "iopub.execute_input": "2022-07-22T18:58:11.084558Z",
     "iopub.status.busy": "2022-07-22T18:58:11.083936Z",
     "iopub.status.idle": "2022-07-22T18:58:12.554851Z",
     "shell.execute_reply": "2022-07-22T18:58:12.553561Z"
    },
    "papermill": {
     "duration": 1.479239,
     "end_time": "2022-07-22T18:58:12.558540",
     "exception": false,
     "start_time": "2022-07-22T18:58:11.079301",
     "status": "completed"
    },
    "tags": []
   },
   "outputs": [
    {
     "name": "stdout",
     "output_type": "stream",
     "text": [
      "Validation MAE when not specifying max_leaf_nodes: 29,653\n",
      "Validation MAE for best value of max_leaf_nodes: 27,283\n",
      "\n",
      "Setup complete\n"
     ]
    }
   ],
   "source": [
    "# Code you have previously used to load data\n",
    "import pandas as pd\n",
    "from sklearn.metrics import mean_absolute_error\n",
    "from sklearn.model_selection import train_test_split\n",
    "from sklearn.tree import DecisionTreeRegressor\n",
    "\n",
    "\n",
    "# Path of the file to read\n",
    "iowa_file_path = '../input/home-data-for-ml-course/train.csv'\n",
    "\n",
    "home_data = pd.read_csv(iowa_file_path)\n",
    "# Create target object and call it y\n",
    "y = home_data.SalePrice\n",
    "# Create X\n",
    "features = ['LotArea', 'YearBuilt', '1stFlrSF', '2ndFlrSF', 'FullBath', 'BedroomAbvGr', 'TotRmsAbvGrd']\n",
    "X = home_data[features]\n",
    "\n",
    "# Split into validation and training data\n",
    "train_X, val_X, train_y, val_y = train_test_split(X, y, random_state=1)\n",
    "\n",
    "# Specify Model\n",
    "iowa_model = DecisionTreeRegressor(random_state=1)\n",
    "# Fit Model\n",
    "iowa_model.fit(train_X, train_y)\n",
    "\n",
    "# Make validation predictions and calculate mean absolute error\n",
    "val_predictions = iowa_model.predict(val_X)\n",
    "val_mae = mean_absolute_error(val_predictions, val_y)\n",
    "print(\"Validation MAE when not specifying max_leaf_nodes: {:,.0f}\".format(val_mae))\n",
    "\n",
    "# Using best value for max_leaf_nodes\n",
    "iowa_model = DecisionTreeRegressor(max_leaf_nodes=100, random_state=1)\n",
    "iowa_model.fit(train_X, train_y)\n",
    "val_predictions = iowa_model.predict(val_X)\n",
    "val_mae = mean_absolute_error(val_predictions, val_y)\n",
    "print(\"Validation MAE for best value of max_leaf_nodes: {:,.0f}\".format(val_mae))\n",
    "\n",
    "\n",
    "# Set up code checking\n",
    "from learntools.core import binder\n",
    "binder.bind(globals())\n",
    "from learntools.machine_learning.ex6 import *\n",
    "print(\"\\nSetup complete\")"
   ]
  },
  {
   "cell_type": "markdown",
   "id": "2a37fcc4",
   "metadata": {
    "papermill": {
     "duration": 0.002711,
     "end_time": "2022-07-22T18:58:12.564404",
     "exception": false,
     "start_time": "2022-07-22T18:58:12.561693",
     "status": "completed"
    },
    "tags": []
   },
   "source": [
    "# Exercises\n",
    "Data science isn't always this easy. But replacing the decision tree with a Random Forest is going to be an easy win."
   ]
  },
  {
   "cell_type": "markdown",
   "id": "d18c2bf0",
   "metadata": {
    "papermill": {
     "duration": 0.002709,
     "end_time": "2022-07-22T18:58:12.569956",
     "exception": false,
     "start_time": "2022-07-22T18:58:12.567247",
     "status": "completed"
    },
    "tags": []
   },
   "source": [
    "## Step 1: Use a Random Forest"
   ]
  },
  {
   "cell_type": "code",
   "execution_count": 2,
   "id": "b9594293",
   "metadata": {
    "execution": {
     "iopub.execute_input": "2022-07-22T18:58:12.577251Z",
     "iopub.status.busy": "2022-07-22T18:58:12.576851Z",
     "iopub.status.idle": "2022-07-22T18:58:13.117871Z",
     "shell.execute_reply": "2022-07-22T18:58:13.116733Z"
    },
    "papermill": {
     "duration": 0.547787,
     "end_time": "2022-07-22T18:58:13.120491",
     "exception": false,
     "start_time": "2022-07-22T18:58:12.572704",
     "status": "completed"
    },
    "tags": []
   },
   "outputs": [
    {
     "name": "stdout",
     "output_type": "stream",
     "text": [
      "Validation MAE for Random Forest Model: 21857.15912981083\n"
     ]
    },
    {
     "data": {
      "application/javascript": [
       "parent.postMessage({\"jupyterEvent\": \"custom.exercise_interaction\", \"data\": {\"outcomeType\": 1, \"valueTowardsCompletion\": 1.0, \"interactionType\": 1, \"questionType\": 2, \"questionId\": \"1_CheckRfScore\", \"learnToolsVersion\": \"0.3.4\", \"failureMessage\": \"\", \"exceptionClass\": \"\", \"trace\": \"\"}}, \"*\")"
      ],
      "text/plain": [
       "<IPython.core.display.Javascript object>"
      ]
     },
     "metadata": {},
     "output_type": "display_data"
    },
    {
     "data": {
      "text/markdown": [
       "<span style=\"color:#33cc33\">Correct</span>"
      ],
      "text/plain": [
       "Correct"
      ]
     },
     "metadata": {},
     "output_type": "display_data"
    }
   ],
   "source": [
    "\n",
    "\n",
    "from sklearn.ensemble import RandomForestRegressor\n",
    "\n",
    "# Define the model. Set random_state to 1\n",
    "rf_model = RandomForestRegressor( random_state=1)\n",
    "\n",
    "# fit your model\n",
    "rf_model.fit(train_X, train_y)\n",
    "\n",
    "# Calculate the mean absolute error of your Random Forest model on the validation data\n",
    "pred_y = rf_model.predict(val_X)\n",
    "rf_val_mae = mean_absolute_error(val_y, pred_y)\n",
    "\n",
    "print(\"Validation MAE for Random Forest Model: {}\".format(rf_val_mae))\n",
    "\n",
    "step_1.check()\n",
    "\n"
   ]
  },
  {
   "cell_type": "code",
   "execution_count": 3,
   "id": "c305382e",
   "metadata": {
    "execution": {
     "iopub.execute_input": "2022-07-22T18:58:13.128901Z",
     "iopub.status.busy": "2022-07-22T18:58:13.128466Z",
     "iopub.status.idle": "2022-07-22T18:58:13.133370Z",
     "shell.execute_reply": "2022-07-22T18:58:13.132127Z"
    },
    "papermill": {
     "duration": 0.011773,
     "end_time": "2022-07-22T18:58:13.135689",
     "exception": false,
     "start_time": "2022-07-22T18:58:13.123916",
     "status": "completed"
    },
    "tags": []
   },
   "outputs": [],
   "source": [
    "# The lines below will show you a hint or the solution.\n",
    "# step_1.hint() \n",
    "# step_1.solution()\n"
   ]
  },
  {
   "cell_type": "markdown",
   "id": "e1a1c73f",
   "metadata": {
    "papermill": {
     "duration": 0.003191,
     "end_time": "2022-07-22T18:58:13.142341",
     "exception": false,
     "start_time": "2022-07-22T18:58:13.139150",
     "status": "completed"
    },
    "tags": []
   },
   "source": [
    "So far, you have followed specific instructions at each step of your project. This helped learn key ideas and build your first model, but now you know enough to try things on your own. \n",
    "\n",
    "Machine Learning competitions are a great way to try your own ideas and learn more as you independently navigate a machine learning project. \n",
    "\n",
    "# Keep Going\n",
    "\n",
    "You are ready for **[Machine Learning Competitions](https://www.kaggle.com/alexisbcook/machine-learning-competitions).**\n"
   ]
  },
  {
   "cell_type": "markdown",
   "id": "9c2e29e5",
   "metadata": {
    "papermill": {
     "duration": 0.003173,
     "end_time": "2022-07-22T18:58:13.148955",
     "exception": false,
     "start_time": "2022-07-22T18:58:13.145782",
     "status": "completed"
    },
    "tags": []
   },
   "source": [
    "---\n",
    "\n",
    "\n",
    "\n",
    "\n",
    "*Have questions or comments? Visit the [course discussion forum](https://www.kaggle.com/learn/intro-to-machine-learning/discussion) to chat with other learners.*"
   ]
  }
 ],
 "metadata": {
  "kernelspec": {
   "display_name": "Python 3",
   "language": "python",
   "name": "python3"
  },
  "language_info": {
   "codemirror_mode": {
    "name": "ipython",
    "version": 3
   },
   "file_extension": ".py",
   "mimetype": "text/x-python",
   "name": "python",
   "nbconvert_exporter": "python",
   "pygments_lexer": "ipython3",
   "version": "3.7.12"
  },
  "papermill": {
   "default_parameters": {},
   "duration": 13.151744,
   "end_time": "2022-07-22T18:58:13.874285",
   "environment_variables": {},
   "exception": null,
   "input_path": "__notebook__.ipynb",
   "output_path": "__notebook__.ipynb",
   "parameters": {},
   "start_time": "2022-07-22T18:58:00.722541",
   "version": "2.3.4"
  }
 },
 "nbformat": 4,
 "nbformat_minor": 5
}
