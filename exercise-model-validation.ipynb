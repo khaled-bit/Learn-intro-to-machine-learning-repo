{
 "cells": [
  {
   "cell_type": "code",
   "execution_count": 1,
   "id": "e41f74b4",
   "metadata": {
    "execution": {
     "iopub.execute_input": "2022-07-22T16:17:42.377149Z",
     "iopub.status.busy": "2022-07-22T16:17:42.376207Z",
     "iopub.status.idle": "2022-07-22T16:17:42.383045Z",
     "shell.execute_reply": "2022-07-22T16:17:42.381776Z"
    },
    "papermill": {
     "duration": 0.017975,
     "end_time": "2022-07-22T16:17:42.385630",
     "exception": false,
     "start_time": "2022-07-22T16:17:42.367655",
     "status": "completed"
    },
    "tags": []
   },
   "outputs": [],
   "source": [
    "#**This notebook is an exercise in the [Introduction to Machine Learning](https://www.kaggle.com/learn/intro-to-machine-learning) course.  You can reference the tutorial at [this link](https://www.kaggle.com/dansbecker/model-validation).**\n",
    "\n",
    " \n"
   ]
  },
  {
   "cell_type": "markdown",
   "id": "5952d05b",
   "metadata": {
    "papermill": {
     "duration": 0.004853,
     "end_time": "2022-07-22T16:17:42.395958",
     "exception": false,
     "start_time": "2022-07-22T16:17:42.391105",
     "status": "completed"
    },
    "tags": []
   },
   "source": [
    "## Recap\n",
    "You've built a model. In this exercise you will test how good your model is.\n",
    "\n",
    "Run the cell below to set up your coding environment where the previous exercise left off."
   ]
  },
  {
   "cell_type": "code",
   "execution_count": 2,
   "id": "25523c66",
   "metadata": {
    "execution": {
     "iopub.execute_input": "2022-07-22T16:17:42.408706Z",
     "iopub.status.busy": "2022-07-22T16:17:42.407862Z",
     "iopub.status.idle": "2022-07-22T16:17:43.769484Z",
     "shell.execute_reply": "2022-07-22T16:17:43.768286Z"
    },
    "papermill": {
     "duration": 1.371197,
     "end_time": "2022-07-22T16:17:43.772254",
     "exception": false,
     "start_time": "2022-07-22T16:17:42.401057",
     "status": "completed"
    },
    "tags": []
   },
   "outputs": [
    {
     "name": "stdout",
     "output_type": "stream",
     "text": [
      "First in-sample predictions: [208500. 181500. 223500. 140000. 250000.]\n",
      "Actual target values for those homes: [208500, 181500, 223500, 140000, 250000]\n",
      "Setup Complete\n"
     ]
    }
   ],
   "source": [
    "# Code you have previously used to load data\n",
    "import pandas as pd\n",
    "from sklearn.tree import DecisionTreeRegressor\n",
    "\n",
    "# Path of the file to read\n",
    "iowa_file_path = '../input/home-data-for-ml-course/train.csv'\n",
    "\n",
    "home_data = pd.read_csv(iowa_file_path)\n",
    "y = home_data.SalePrice\n",
    "feature_columns = ['LotArea', 'YearBuilt', '1stFlrSF', '2ndFlrSF', 'FullBath', 'BedroomAbvGr', 'TotRmsAbvGrd']\n",
    "X = home_data[feature_columns]\n",
    "\n",
    "# Specify Model\n",
    "iowa_model = DecisionTreeRegressor()\n",
    "# Fit Model\n",
    "iowa_model.fit(X, y)\n",
    "\n",
    "print(\"First in-sample predictions:\", iowa_model.predict(X.head()))\n",
    "print(\"Actual target values for those homes:\", y.head().tolist())\n",
    "\n",
    "# Set up code checking\n",
    "from learntools.core import binder\n",
    "binder.bind(globals())\n",
    "from learntools.machine_learning.ex4 import *\n",
    "print(\"Setup Complete\")"
   ]
  },
  {
   "cell_type": "markdown",
   "id": "bc00d4cb",
   "metadata": {
    "papermill": {
     "duration": 0.004914,
     "end_time": "2022-07-22T16:17:43.782400",
     "exception": false,
     "start_time": "2022-07-22T16:17:43.777486",
     "status": "completed"
    },
    "tags": []
   },
   "source": [
    "# Exercises\n",
    "\n",
    "## Step 1: Split Your Data\n",
    "Use the `train_test_split` function to split up your data.\n",
    "\n",
    "Give it the argument `random_state=1` so the `check` functions know what to expect when verifying your code.\n",
    "\n",
    "Recall, your features are loaded in the DataFrame **X** and your target is loaded in **y**.\n"
   ]
  },
  {
   "cell_type": "code",
   "execution_count": 3,
   "id": "a0db2315",
   "metadata": {
    "execution": {
     "iopub.execute_input": "2022-07-22T16:17:43.795280Z",
     "iopub.status.busy": "2022-07-22T16:17:43.794148Z",
     "iopub.status.idle": "2022-07-22T16:17:43.808919Z",
     "shell.execute_reply": "2022-07-22T16:17:43.808120Z"
    },
    "papermill": {
     "duration": 0.023523,
     "end_time": "2022-07-22T16:17:43.811043",
     "exception": false,
     "start_time": "2022-07-22T16:17:43.787520",
     "status": "completed"
    },
    "tags": []
   },
   "outputs": [
    {
     "data": {
      "application/javascript": [
       "parent.postMessage({\"jupyterEvent\": \"custom.exercise_interaction\", \"data\": {\"outcomeType\": 1, \"valueTowardsCompletion\": 0.25, \"interactionType\": 1, \"questionType\": 2, \"questionId\": \"1_SplitData\", \"learnToolsVersion\": \"0.3.4\", \"failureMessage\": \"\", \"exceptionClass\": \"\", \"trace\": \"\"}}, \"*\")"
      ],
      "text/plain": [
       "<IPython.core.display.Javascript object>"
      ]
     },
     "metadata": {},
     "output_type": "display_data"
    },
    {
     "data": {
      "text/markdown": [
       "<span style=\"color:#33cc33\">Correct</span>"
      ],
      "text/plain": [
       "Correct"
      ]
     },
     "metadata": {},
     "output_type": "display_data"
    }
   ],
   "source": [
    "# Import the train_test_split function and uncomment\n",
    "# from _ import _\n",
    "from sklearn.model_selection import train_test_split\n",
    "# fill in and uncomment\n",
    "# train_X, val_X, train_y, val_y = ____\n",
    "train_X, val_X, train_y, val_y = train_test_split(X, y, random_state=1)\n",
    "# Check your answer\n",
    "step_1.check()"
   ]
  },
  {
   "cell_type": "code",
   "execution_count": 4,
   "id": "4ee39e86",
   "metadata": {
    "execution": {
     "iopub.execute_input": "2022-07-22T16:17:43.823754Z",
     "iopub.status.busy": "2022-07-22T16:17:43.823116Z",
     "iopub.status.idle": "2022-07-22T16:17:43.826934Z",
     "shell.execute_reply": "2022-07-22T16:17:43.825965Z"
    },
    "papermill": {
     "duration": 0.012548,
     "end_time": "2022-07-22T16:17:43.829025",
     "exception": false,
     "start_time": "2022-07-22T16:17:43.816477",
     "status": "completed"
    },
    "tags": []
   },
   "outputs": [],
   "source": [
    "# The lines below will show you a hint or the solution.\n",
    "# step_1.hint() \n",
    "# step_1.solution()\n"
   ]
  },
  {
   "cell_type": "markdown",
   "id": "1315d0a8",
   "metadata": {
    "papermill": {
     "duration": 0.005181,
     "end_time": "2022-07-22T16:17:43.839924",
     "exception": false,
     "start_time": "2022-07-22T16:17:43.834743",
     "status": "completed"
    },
    "tags": []
   },
   "source": [
    "## Step 2: Specify and Fit the Model\n",
    "\n",
    "Create a `DecisionTreeRegressor` model and fit it to the relevant data.\n",
    "Set `random_state` to 1 again when creating the model."
   ]
  },
  {
   "cell_type": "code",
   "execution_count": 5,
   "id": "b8e9e8c4",
   "metadata": {
    "execution": {
     "iopub.execute_input": "2022-07-22T16:17:43.852776Z",
     "iopub.status.busy": "2022-07-22T16:17:43.852046Z",
     "iopub.status.idle": "2022-07-22T16:17:43.881453Z",
     "shell.execute_reply": "2022-07-22T16:17:43.880332Z"
    },
    "papermill": {
     "duration": 0.038446,
     "end_time": "2022-07-22T16:17:43.883718",
     "exception": false,
     "start_time": "2022-07-22T16:17:43.845272",
     "status": "completed"
    },
    "tags": []
   },
   "outputs": [
    {
     "name": "stdout",
     "output_type": "stream",
     "text": [
      "[186500. 184000. 130000.  92000. 164500. 220000. 335000. 144152. 215000.\n",
      " 262000.]\n",
      "[186500. 184000. 130000.  92000. 164500. 220000. 335000. 144152. 215000.\n",
      " 262000.]\n"
     ]
    },
    {
     "data": {
      "application/javascript": [
       "parent.postMessage({\"jupyterEvent\": \"custom.exercise_interaction\", \"data\": {\"outcomeType\": 1, \"valueTowardsCompletion\": 0.25, \"interactionType\": 1, \"questionType\": 2, \"questionId\": \"2_FitModelWithTrain\", \"learnToolsVersion\": \"0.3.4\", \"failureMessage\": \"\", \"exceptionClass\": \"\", \"trace\": \"\"}}, \"*\")"
      ],
      "text/plain": [
       "<IPython.core.display.Javascript object>"
      ]
     },
     "metadata": {},
     "output_type": "display_data"
    },
    {
     "data": {
      "text/markdown": [
       "<span style=\"color:#33cc33\">Correct</span>"
      ],
      "text/plain": [
       "Correct"
      ]
     },
     "metadata": {},
     "output_type": "display_data"
    }
   ],
   "source": [
    "# You imported DecisionTreeRegressor in your last exercise\n",
    "# and that code has been copied to the setup code above. So, no need to\n",
    "# import it again\n",
    "\n",
    "# Specify the model\n",
    "iowa_model = DecisionTreeRegressor(random_state=1)\n",
    "# Fit iowa_model with the training data.\n",
    "iowa_model.fit(train_X, train_y)\n",
    " \n",
    "\n",
    "# Check your answer\n",
    "step_2.check()"
   ]
  },
  {
   "cell_type": "code",
   "execution_count": 6,
   "id": "17817ed4",
   "metadata": {
    "execution": {
     "iopub.execute_input": "2022-07-22T16:17:43.897246Z",
     "iopub.status.busy": "2022-07-22T16:17:43.896558Z",
     "iopub.status.idle": "2022-07-22T16:17:43.900205Z",
     "shell.execute_reply": "2022-07-22T16:17:43.899458Z"
    },
    "papermill": {
     "duration": 0.012946,
     "end_time": "2022-07-22T16:17:43.902267",
     "exception": false,
     "start_time": "2022-07-22T16:17:43.889321",
     "status": "completed"
    },
    "tags": []
   },
   "outputs": [],
   "source": [
    "# step_2.hint()\n",
    "# step_2.solution()"
   ]
  },
  {
   "cell_type": "markdown",
   "id": "9832b0e0",
   "metadata": {
    "papermill": {
     "duration": 0.00544,
     "end_time": "2022-07-22T16:17:43.913698",
     "exception": false,
     "start_time": "2022-07-22T16:17:43.908258",
     "status": "completed"
    },
    "tags": []
   },
   "source": [
    "## Step 3: Make Predictions with Validation data\n"
   ]
  },
  {
   "cell_type": "code",
   "execution_count": 7,
   "id": "15d7743f",
   "metadata": {
    "execution": {
     "iopub.execute_input": "2022-07-22T16:17:43.926674Z",
     "iopub.status.busy": "2022-07-22T16:17:43.926266Z",
     "iopub.status.idle": "2022-07-22T16:17:43.939701Z",
     "shell.execute_reply": "2022-07-22T16:17:43.938570Z"
    },
    "papermill": {
     "duration": 0.022985,
     "end_time": "2022-07-22T16:17:43.942289",
     "exception": false,
     "start_time": "2022-07-22T16:17:43.919304",
     "status": "completed"
    },
    "tags": []
   },
   "outputs": [
    {
     "data": {
      "application/javascript": [
       "parent.postMessage({\"jupyterEvent\": \"custom.exercise_interaction\", \"data\": {\"outcomeType\": 1, \"valueTowardsCompletion\": 0.25, \"interactionType\": 1, \"questionType\": 2, \"questionId\": \"3_ValPreds\", \"learnToolsVersion\": \"0.3.4\", \"failureMessage\": \"\", \"exceptionClass\": \"\", \"trace\": \"\"}}, \"*\")"
      ],
      "text/plain": [
       "<IPython.core.display.Javascript object>"
      ]
     },
     "metadata": {},
     "output_type": "display_data"
    },
    {
     "data": {
      "text/markdown": [
       "<span style=\"color:#33cc33\">Correct</span>"
      ],
      "text/plain": [
       "Correct"
      ]
     },
     "metadata": {},
     "output_type": "display_data"
    }
   ],
   "source": [
    "# Predict with all validation observations\n",
    "val_predictions = iowa_model.predict(val_X)\n",
    "# Check your answer\n",
    "step_3.check()"
   ]
  },
  {
   "cell_type": "code",
   "execution_count": 8,
   "id": "8dd3a499",
   "metadata": {
    "execution": {
     "iopub.execute_input": "2022-07-22T16:17:43.956755Z",
     "iopub.status.busy": "2022-07-22T16:17:43.956343Z",
     "iopub.status.idle": "2022-07-22T16:17:43.960631Z",
     "shell.execute_reply": "2022-07-22T16:17:43.959845Z"
    },
    "papermill": {
     "duration": 0.014468,
     "end_time": "2022-07-22T16:17:43.962835",
     "exception": false,
     "start_time": "2022-07-22T16:17:43.948367",
     "status": "completed"
    },
    "tags": []
   },
   "outputs": [],
   "source": [
    "# step_3.hint()\n",
    "# step_3.solution()"
   ]
  },
  {
   "cell_type": "markdown",
   "id": "6aa7b642",
   "metadata": {
    "papermill": {
     "duration": 0.00606,
     "end_time": "2022-07-22T16:17:43.975175",
     "exception": false,
     "start_time": "2022-07-22T16:17:43.969115",
     "status": "completed"
    },
    "tags": []
   },
   "source": [
    "Inspect your predictions and actual values from validation data."
   ]
  },
  {
   "cell_type": "code",
   "execution_count": 9,
   "id": "93e15b82",
   "metadata": {
    "execution": {
     "iopub.execute_input": "2022-07-22T16:17:43.989977Z",
     "iopub.status.busy": "2022-07-22T16:17:43.989168Z",
     "iopub.status.idle": "2022-07-22T16:17:43.998362Z",
     "shell.execute_reply": "2022-07-22T16:17:43.997124Z"
    },
    "papermill": {
     "duration": 0.019241,
     "end_time": "2022-07-22T16:17:44.000659",
     "exception": false,
     "start_time": "2022-07-22T16:17:43.981418",
     "status": "completed"
    },
    "tags": []
   },
   "outputs": [
    {
     "name": "stdout",
     "output_type": "stream",
     "text": [
      "[186500. 184000. 130000.  92000. 164500.]\n",
      "[231500, 179500, 122000, 84500, 142000]\n"
     ]
    }
   ],
   "source": [
    "# print the top few validation predictions\n",
    "print(iowa_model.predict(val_X.head()))\n",
    "# print the top few actual prices from validation data\n",
    "print(val_y.head().tolist())"
   ]
  },
  {
   "cell_type": "markdown",
   "id": "932855a9",
   "metadata": {
    "papermill": {
     "duration": 0.005936,
     "end_time": "2022-07-22T16:17:44.012740",
     "exception": false,
     "start_time": "2022-07-22T16:17:44.006804",
     "status": "completed"
    },
    "tags": []
   },
   "source": [
    "What do you notice that is different from what you saw with in-sample predictions (which are printed after the top code cell in this page).\n",
    "\n",
    "Do you remember why validation predictions differ from in-sample (or training) predictions? This is an important idea from the last lesson.\n",
    "\n",
    "## Step 4: Calculate the Mean Absolute Error in Validation Data\n"
   ]
  },
  {
   "cell_type": "code",
   "execution_count": 10,
   "id": "47cc2454",
   "metadata": {
    "execution": {
     "iopub.execute_input": "2022-07-22T16:17:44.027575Z",
     "iopub.status.busy": "2022-07-22T16:17:44.026947Z",
     "iopub.status.idle": "2022-07-22T16:17:44.037519Z",
     "shell.execute_reply": "2022-07-22T16:17:44.036454Z"
    },
    "papermill": {
     "duration": 0.020585,
     "end_time": "2022-07-22T16:17:44.039700",
     "exception": false,
     "start_time": "2022-07-22T16:17:44.019115",
     "status": "completed"
    },
    "tags": []
   },
   "outputs": [
    {
     "name": "stdout",
     "output_type": "stream",
     "text": [
      "29652.931506849316\n"
     ]
    },
    {
     "data": {
      "application/javascript": [
       "parent.postMessage({\"jupyterEvent\": \"custom.exercise_interaction\", \"data\": {\"outcomeType\": 1, \"valueTowardsCompletion\": 0.25, \"interactionType\": 1, \"questionType\": 1, \"questionId\": \"4_MAE\", \"learnToolsVersion\": \"0.3.4\", \"failureMessage\": \"\", \"exceptionClass\": \"\", \"trace\": \"\"}}, \"*\")"
      ],
      "text/plain": [
       "<IPython.core.display.Javascript object>"
      ]
     },
     "metadata": {},
     "output_type": "display_data"
    },
    {
     "data": {
      "text/markdown": [
       "<span style=\"color:#33cc33\">Correct</span>"
      ],
      "text/plain": [
       "Correct"
      ]
     },
     "metadata": {},
     "output_type": "display_data"
    }
   ],
   "source": [
    "from sklearn.metrics import mean_absolute_error\n",
    "val_mae =  mean_absolute_error(val_predictions, val_y)\n",
    "\n",
    "# uncomment following line to see the validation_mae\n",
    "print(val_mae)\n",
    "# Check your answer\n",
    "step_4.check()"
   ]
  },
  {
   "cell_type": "code",
   "execution_count": 11,
   "id": "2ce311cd",
   "metadata": {
    "execution": {
     "iopub.execute_input": "2022-07-22T16:17:44.054096Z",
     "iopub.status.busy": "2022-07-22T16:17:44.053712Z",
     "iopub.status.idle": "2022-07-22T16:17:44.058145Z",
     "shell.execute_reply": "2022-07-22T16:17:44.057107Z"
    },
    "papermill": {
     "duration": 0.01426,
     "end_time": "2022-07-22T16:17:44.060407",
     "exception": false,
     "start_time": "2022-07-22T16:17:44.046147",
     "status": "completed"
    },
    "tags": []
   },
   "outputs": [],
   "source": [
    "# step_4.hint()\n",
    "# step_4.solution()"
   ]
  },
  {
   "cell_type": "markdown",
   "id": "7c347415",
   "metadata": {
    "papermill": {
     "duration": 0.006396,
     "end_time": "2022-07-22T16:17:44.073517",
     "exception": false,
     "start_time": "2022-07-22T16:17:44.067121",
     "status": "completed"
    },
    "tags": []
   },
   "source": [
    "Is that MAE good?  There isn't a general rule for what values are good that applies across applications. But you'll see how to use (and improve) this number in the next step.\n",
    "\n",
    "# Keep Going\n",
    "\n",
    "You are ready for **[Underfitting and Overfitting](https://www.kaggle.com/dansbecker/underfitting-and-overfitting).**\n"
   ]
  },
  {
   "cell_type": "markdown",
   "id": "64fa034a",
   "metadata": {
    "papermill": {
     "duration": 0.006225,
     "end_time": "2022-07-22T16:17:44.086388",
     "exception": false,
     "start_time": "2022-07-22T16:17:44.080163",
     "status": "completed"
    },
    "tags": []
   },
   "source": [
    "---\n",
    "\n",
    "\n",
    "\n",
    "\n",
    "*Have questions or comments? Visit the [course discussion forum](https://www.kaggle.com/learn/intro-to-machine-learning/discussion) to chat with other learners.*"
   ]
  }
 ],
 "metadata": {
  "kernelspec": {
   "display_name": "Python 3",
   "language": "python",
   "name": "python3"
  },
  "language_info": {
   "codemirror_mode": {
    "name": "ipython",
    "version": 3
   },
   "file_extension": ".py",
   "mimetype": "text/x-python",
   "name": "python",
   "nbconvert_exporter": "python",
   "pygments_lexer": "ipython3",
   "version": "3.7.12"
  },
  "papermill": {
   "default_parameters": {},
   "duration": 12.1642,
   "end_time": "2022-07-22T16:17:44.813922",
   "environment_variables": {},
   "exception": null,
   "input_path": "__notebook__.ipynb",
   "output_path": "__notebook__.ipynb",
   "parameters": {},
   "start_time": "2022-07-22T16:17:32.649722",
   "version": "2.3.4"
  }
 },
 "nbformat": 4,
 "nbformat_minor": 5
}
