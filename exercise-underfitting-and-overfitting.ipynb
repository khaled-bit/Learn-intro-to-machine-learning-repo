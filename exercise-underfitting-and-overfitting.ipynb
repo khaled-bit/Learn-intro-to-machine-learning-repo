{
 "cells": [
  {
   "cell_type": "markdown",
   "id": "0b5c0655",
   "metadata": {
    "papermill": {
     "duration": 0.004256,
     "end_time": "2022-07-22T18:49:32.393548",
     "exception": false,
     "start_time": "2022-07-22T18:49:32.389292",
     "status": "completed"
    },
    "tags": []
   },
   "source": [
    "**This notebook is an exercise in the [Introduction to Machine Learning](https://www.kaggle.com/learn/intro-to-machine-learning) course.  You can reference the tutorial at [this link](https://www.kaggle.com/dansbecker/underfitting-and-overfitting).**\n",
    "\n",
    "---\n"
   ]
  },
  {
   "cell_type": "markdown",
   "id": "2a8186a8",
   "metadata": {
    "papermill": {
     "duration": 0.002953,
     "end_time": "2022-07-22T18:49:32.399946",
     "exception": false,
     "start_time": "2022-07-22T18:49:32.396993",
     "status": "completed"
    },
    "tags": []
   },
   "source": [
    "## Recap\n",
    "You've built your first model, and now it's time to optimize the size of the tree to make better predictions. Run this cell to set up your coding environment where the previous step left off."
   ]
  },
  {
   "cell_type": "code",
   "execution_count": 1,
   "id": "2cb6d4fb",
   "metadata": {
    "execution": {
     "iopub.execute_input": "2022-07-22T18:49:32.408587Z",
     "iopub.status.busy": "2022-07-22T18:49:32.407694Z",
     "iopub.status.idle": "2022-07-22T18:49:33.785603Z",
     "shell.execute_reply": "2022-07-22T18:49:33.784216Z"
    },
    "papermill": {
     "duration": 1.385976,
     "end_time": "2022-07-22T18:49:33.788894",
     "exception": false,
     "start_time": "2022-07-22T18:49:32.402918",
     "status": "completed"
    },
    "tags": []
   },
   "outputs": [
    {
     "name": "stdout",
     "output_type": "stream",
     "text": [
      "Validation MAE: 29,653\n",
      "\n",
      "Setup complete\n"
     ]
    }
   ],
   "source": [
    "# Code you have previously used to load data\n",
    "import pandas as pd\n",
    "from sklearn.metrics import mean_absolute_error\n",
    "from sklearn.model_selection import train_test_split\n",
    "from sklearn.tree import DecisionTreeRegressor\n",
    "\n",
    "\n",
    "# Path of the file to read\n",
    "iowa_file_path = '../input/home-data-for-ml-course/train.csv'\n",
    "\n",
    "home_data = pd.read_csv(iowa_file_path)\n",
    "# Create target object and call it y\n",
    "y = home_data.SalePrice\n",
    "# Create X\n",
    "features = ['LotArea', 'YearBuilt', '1stFlrSF', '2ndFlrSF', 'FullBath', 'BedroomAbvGr', 'TotRmsAbvGrd']\n",
    "X = home_data[features]\n",
    "\n",
    "# Split into validation and training data\n",
    "train_X, val_X, train_y, val_y = train_test_split(X, y, random_state=1)\n",
    "\n",
    "# Specify Model\n",
    "iowa_model = DecisionTreeRegressor(random_state=1)\n",
    "# Fit Model\n",
    "iowa_model.fit(train_X, train_y)\n",
    "\n",
    "# Make validation predictions and calculate mean absolute error\n",
    "val_predictions = iowa_model.predict(val_X)\n",
    "val_mae = mean_absolute_error(val_predictions, val_y)\n",
    "print(\"Validation MAE: {:,.0f}\".format(val_mae))\n",
    "\n",
    "# Set up code checking\n",
    "from learntools.core import binder\n",
    "binder.bind(globals())\n",
    "from learntools.machine_learning.ex5 import *\n",
    "print(\"\\nSetup complete\")"
   ]
  },
  {
   "cell_type": "markdown",
   "id": "e5022217",
   "metadata": {
    "papermill": {
     "duration": 0.002801,
     "end_time": "2022-07-22T18:49:33.795446",
     "exception": false,
     "start_time": "2022-07-22T18:49:33.792645",
     "status": "completed"
    },
    "tags": []
   },
   "source": [
    "# Exercises\n",
    "You could write the function `get_mae` yourself. For now, we'll supply it. This is the same function you read about in the previous lesson. Just run the cell below."
   ]
  },
  {
   "cell_type": "code",
   "execution_count": 2,
   "id": "b903eded",
   "metadata": {
    "execution": {
     "iopub.execute_input": "2022-07-22T18:49:33.802804Z",
     "iopub.status.busy": "2022-07-22T18:49:33.802336Z",
     "iopub.status.idle": "2022-07-22T18:49:33.807780Z",
     "shell.execute_reply": "2022-07-22T18:49:33.806842Z"
    },
    "papermill": {
     "duration": 0.011618,
     "end_time": "2022-07-22T18:49:33.809898",
     "exception": false,
     "start_time": "2022-07-22T18:49:33.798280",
     "status": "completed"
    },
    "tags": []
   },
   "outputs": [],
   "source": [
    "def get_mae(max_leaf_nodes, train_X, val_X, train_y, val_y):\n",
    "    model = DecisionTreeRegressor(max_leaf_nodes=max_leaf_nodes, random_state=0)\n",
    "    model.fit(train_X, train_y)\n",
    "    preds_val = model.predict(val_X)\n",
    "    mae = mean_absolute_error(val_y, preds_val)\n",
    "    return(mae)"
   ]
  },
  {
   "cell_type": "markdown",
   "id": "e0337399",
   "metadata": {
    "papermill": {
     "duration": 0.002609,
     "end_time": "2022-07-22T18:49:33.815570",
     "exception": false,
     "start_time": "2022-07-22T18:49:33.812961",
     "status": "completed"
    },
    "tags": []
   },
   "source": [
    "## Step 1: Compare Different Tree Sizes\n",
    "Write a loop that tries the following values for *max_leaf_nodes* from a set of possible values.\n",
    "\n",
    "Call the *get_mae* function on each value of max_leaf_nodes. Store the output in some way that allows you to select the value of `max_leaf_nodes` that gives the most accurate model on your data."
   ]
  },
  {
   "cell_type": "code",
   "execution_count": 3,
   "id": "2ddec65d",
   "metadata": {
    "execution": {
     "iopub.execute_input": "2022-07-22T18:49:33.822916Z",
     "iopub.status.busy": "2022-07-22T18:49:33.822281Z",
     "iopub.status.idle": "2022-07-22T18:49:33.867032Z",
     "shell.execute_reply": "2022-07-22T18:49:33.866033Z"
    },
    "papermill": {
     "duration": 0.051036,
     "end_time": "2022-07-22T18:49:33.869305",
     "exception": false,
     "start_time": "2022-07-22T18:49:33.818269",
     "status": "completed"
    },
    "tags": []
   },
   "outputs": [
    {
     "data": {
      "application/javascript": [
       "parent.postMessage({\"jupyterEvent\": \"custom.exercise_interaction\", \"data\": {\"outcomeType\": 1, \"valueTowardsCompletion\": 0.5, \"interactionType\": 1, \"questionType\": 1, \"questionId\": \"1_BestTreeSize\", \"learnToolsVersion\": \"0.3.4\", \"failureMessage\": \"\", \"exceptionClass\": \"\", \"trace\": \"\"}}, \"*\")"
      ],
      "text/plain": [
       "<IPython.core.display.Javascript object>"
      ]
     },
     "metadata": {},
     "output_type": "display_data"
    },
    {
     "data": {
      "text/markdown": [
       "<span style=\"color:#33cc33\">Correct</span>"
      ],
      "text/plain": [
       "Correct"
      ]
     },
     "metadata": {},
     "output_type": "display_data"
    }
   ],
   "source": [
    "candidate_max_leaf_nodes = [5, 25, 50, 100, 250, 500]\n",
    "# Write loop to find the ideal tree size from candidate_max_leaf_nodes\n",
    "mae_scores = {}\n",
    "for size in candidate_max_leaf_nodes:\n",
    "    mae_scores[size] = get_mae(size, train_X, val_X, train_y, val_y)\n",
    "\n",
    "# Store the best value of max_leaf_nodes (it will be either 5, 25, 50, 100, 250 or 500)\n",
    "best_tree_size = min(mae_scores, key=mae_scores.get)\n",
    "\n",
    "\n",
    "# Check your answer\n",
    "step_1.check()"
   ]
  },
  {
   "cell_type": "code",
   "execution_count": 4,
   "id": "accbab00",
   "metadata": {
    "execution": {
     "iopub.execute_input": "2022-07-22T18:49:33.877447Z",
     "iopub.status.busy": "2022-07-22T18:49:33.877072Z",
     "iopub.status.idle": "2022-07-22T18:49:33.881053Z",
     "shell.execute_reply": "2022-07-22T18:49:33.879991Z"
    },
    "papermill": {
     "duration": 0.010875,
     "end_time": "2022-07-22T18:49:33.883425",
     "exception": false,
     "start_time": "2022-07-22T18:49:33.872550",
     "status": "completed"
    },
    "tags": []
   },
   "outputs": [],
   "source": [
    "# The lines below will show you a hint or the solution.\n",
    "# step_1.hint() \n",
    "# step_1.solution()"
   ]
  },
  {
   "cell_type": "markdown",
   "id": "338a549e",
   "metadata": {
    "papermill": {
     "duration": 0.002842,
     "end_time": "2022-07-22T18:49:33.889461",
     "exception": false,
     "start_time": "2022-07-22T18:49:33.886619",
     "status": "completed"
    },
    "tags": []
   },
   "source": [
    "## Step 2: Fit Model Using All Data\n",
    "You know the best tree size. If you were going to deploy this model in practice, you would make it even more accurate by using all of the data and keeping that tree size.  That is, you don't need to hold out the validation data now that you've made all your modeling decisions."
   ]
  },
  {
   "cell_type": "code",
   "execution_count": 5,
   "id": "4db89507",
   "metadata": {
    "execution": {
     "iopub.execute_input": "2022-07-22T18:49:33.897215Z",
     "iopub.status.busy": "2022-07-22T18:49:33.896879Z",
     "iopub.status.idle": "2022-07-22T18:49:33.913506Z",
     "shell.execute_reply": "2022-07-22T18:49:33.912306Z"
    },
    "papermill": {
     "duration": 0.023258,
     "end_time": "2022-07-22T18:49:33.915742",
     "exception": false,
     "start_time": "2022-07-22T18:49:33.892484",
     "status": "completed"
    },
    "tags": []
   },
   "outputs": [
    {
     "data": {
      "application/javascript": [
       "parent.postMessage({\"jupyterEvent\": \"custom.exercise_interaction\", \"data\": {\"outcomeType\": 1, \"valueTowardsCompletion\": 0.5, \"interactionType\": 1, \"questionType\": 2, \"questionId\": \"2_FitModelWithAllData\", \"learnToolsVersion\": \"0.3.4\", \"failureMessage\": \"\", \"exceptionClass\": \"\", \"trace\": \"\"}}, \"*\")"
      ],
      "text/plain": [
       "<IPython.core.display.Javascript object>"
      ]
     },
     "metadata": {},
     "output_type": "display_data"
    },
    {
     "data": {
      "text/markdown": [
       "<span style=\"color:#33cc33\">Correct</span>"
      ],
      "text/plain": [
       "Correct"
      ]
     },
     "metadata": {},
     "output_type": "display_data"
    }
   ],
   "source": [
    "# Fill in argument to make optimal size and uncomment\n",
    "final_model = DecisionTreeRegressor(max_leaf_nodes=best_tree_size, random_state=1)\n",
    "\n",
    "# fit the final model and uncomment the next two lines\n",
    "final_model.fit(X, y)\n",
    "# Check your answer\n",
    "step_2.check()"
   ]
  },
  {
   "cell_type": "code",
   "execution_count": 6,
   "id": "63842e10",
   "metadata": {
    "execution": {
     "iopub.execute_input": "2022-07-22T18:49:33.923976Z",
     "iopub.status.busy": "2022-07-22T18:49:33.923650Z",
     "iopub.status.idle": "2022-07-22T18:49:33.927573Z",
     "shell.execute_reply": "2022-07-22T18:49:33.926448Z"
    },
    "papermill": {
     "duration": 0.01042,
     "end_time": "2022-07-22T18:49:33.929434",
     "exception": false,
     "start_time": "2022-07-22T18:49:33.919014",
     "status": "completed"
    },
    "tags": []
   },
   "outputs": [],
   "source": [
    "# step_2.hint()\n",
    "# step_2.solution()"
   ]
  },
  {
   "cell_type": "markdown",
   "id": "9443f923",
   "metadata": {
    "papermill": {
     "duration": 0.003189,
     "end_time": "2022-07-22T18:49:33.936063",
     "exception": false,
     "start_time": "2022-07-22T18:49:33.932874",
     "status": "completed"
    },
    "tags": []
   },
   "source": [
    "You've tuned this model and improved your results. But we are still using Decision Tree models, which are not very sophisticated by modern machine learning standards. In the next step you will learn to use Random Forests to improve your models even more.\n",
    "\n",
    "# Keep Going\n",
    "\n",
    "You are ready for **[Random Forests](https://www.kaggle.com/dansbecker/random-forests).**\n"
   ]
  },
  {
   "cell_type": "markdown",
   "id": "f35572d2",
   "metadata": {
    "papermill": {
     "duration": 0.002965,
     "end_time": "2022-07-22T18:49:33.942277",
     "exception": false,
     "start_time": "2022-07-22T18:49:33.939312",
     "status": "completed"
    },
    "tags": []
   },
   "source": [
    "---\n",
    "\n",
    "\n",
    "\n",
    "\n",
    "*Have questions or comments? Visit the [course discussion forum](https://www.kaggle.com/learn/intro-to-machine-learning/discussion) to chat with other learners.*"
   ]
  }
 ],
 "metadata": {
  "kernelspec": {
   "display_name": "Python 3",
   "language": "python",
   "name": "python3"
  },
  "language_info": {
   "codemirror_mode": {
    "name": "ipython",
    "version": 3
   },
   "file_extension": ".py",
   "mimetype": "text/x-python",
   "name": "python",
   "nbconvert_exporter": "python",
   "pygments_lexer": "ipython3",
   "version": "3.7.12"
  },
  "papermill": {
   "default_parameters": {},
   "duration": 11.73242,
   "end_time": "2022-07-22T18:49:34.666650",
   "environment_variables": {},
   "exception": null,
   "input_path": "__notebook__.ipynb",
   "output_path": "__notebook__.ipynb",
   "parameters": {},
   "start_time": "2022-07-22T18:49:22.934230",
   "version": "2.3.4"
  }
 },
 "nbformat": 4,
 "nbformat_minor": 5
}
